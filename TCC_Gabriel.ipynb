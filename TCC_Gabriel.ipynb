{
  "nbformat": 4,
  "nbformat_minor": 0,
  "metadata": {
    "colab": {
      "provenance": [],
      "include_colab_link": true
    },
    "kernelspec": {
      "name": "python3",
      "display_name": "Python 3"
    },
    "language_info": {
      "name": "python"
    }
  },
  "cells": [
    {
      "cell_type": "markdown",
      "metadata": {
        "id": "view-in-github",
        "colab_type": "text"
      },
      "source": [
        "<a href=\"https://colab.research.google.com/github/ferfsnandes/TCC--usando-Machine-Leraning-para-prever-o-risco-de-doencas-cronicas-nao-transmissiveis-em-idosos/blob/main/TCC_Gabriel.ipynb\" target=\"_parent\"><img src=\"https://colab.research.google.com/assets/colab-badge.svg\" alt=\"Open In Colab\"/></a>"
      ]
    },
    {
      "cell_type": "markdown",
      "source": [
        "\n",
        "https://www.geeksforgeeks.org/machine-learning/?ref=lbp\n",
        "\n",
        "https://www.geeksforgeeks.org/working-with-missing-data-in-pandas/\n"
      ],
      "metadata": {
        "id": "F21dTdgMHDLs"
      }
    },
    {
      "cell_type": "code",
      "execution_count": null,
      "metadata": {
        "id": "orHdHyQCGtxB"
      },
      "outputs": [],
      "source": [
        "import io\n",
        "import numpy as np\n",
        "import matplotlib.pyplot as plt\n",
        "import pandas as pd\n",
        "import seaborn as sns\n"
      ]
    },
    {
      "cell_type": "code",
      "source": [
        "from google.colab import drive\n",
        "drive.mount(\"/content/drive\", force_remount=True)"
      ],
      "metadata": {
        "colab": {
          "base_uri": "https://localhost:8080/"
        },
        "id": "GyGBd9CfwW5Z",
        "outputId": "ceec3ac0-88a1-4df3-ccbb-9a812f1e9ab8"
      },
      "execution_count": null,
      "outputs": [
        {
          "output_type": "stream",
          "name": "stdout",
          "text": [
            "Mounted at /content/drive\n"
          ]
        }
      ]
    },
    {
      "cell_type": "code",
      "source": [
        "df = pd.read_csv(\"/content/drive/MyDrive/database_arrumada (2).csv\")\n"
      ],
      "metadata": {
        "id": "PrV0ms45zIqf"
      },
      "execution_count": null,
      "outputs": []
    },
    {
      "cell_type": "code",
      "source": [
        "df.info()\n"
      ],
      "metadata": {
        "colab": {
          "base_uri": "https://localhost:8080/"
        },
        "id": "xAdVG_5JGp7l",
        "outputId": "80c0f085-615a-44a0-99eb-1fb0f6320835"
      },
      "execution_count": null,
      "outputs": [
        {
          "output_type": "stream",
          "name": "stdout",
          "text": [
            "<class 'pandas.core.frame.DataFrame'>\n",
            "RangeIndex: 791 entries, 0 to 790\n",
            "Columns: 330 entries, Bancos to escola_cat\n",
            "dtypes: float64(300), int64(9), object(21)\n",
            "memory usage: 2.0+ MB\n"
          ]
        }
      ]
    },
    {
      "cell_type": "code",
      "source": [
        "empty_cols = [col for col in df.columns if df[col].isna().all() or df[col].isnull().all()]\n",
        "len(empty_cols)\n",
        "print(len(empty_cols))\n",
        "print(f\"Colunas Vazias: {empty_cols}\")"
      ],
      "metadata": {
        "colab": {
          "base_uri": "https://localhost:8080/"
        },
        "id": "j2Je-kFDIaAv",
        "outputId": "57464041-161d-4ff1-f4e7-ac7be3bdffe9"
      },
      "execution_count": null,
      "outputs": [
        {
          "output_type": "stream",
          "name": "stdout",
          "text": [
            "0\n",
            "Colunas Vazias: []\n"
          ]
        }
      ]
    },
    {
      "cell_type": "code",
      "source": [
        "df.drop(empty_cols, axis=1, inplace=True)\n"
      ],
      "metadata": {
        "id": "4tD5q8iUQRp4"
      },
      "execution_count": null,
      "outputs": []
    },
    {
      "cell_type": "markdown",
      "source": [
        "ToDO: Threshold 90% = drop\n",
        "ToDO: Threshold 75% = drop (if doesnt have clear impact on the model)\n",
        "ToDO: drop colluns without any impact in the model\n",
        "\n"
      ],
      "metadata": {
        "id": "WWWYiiO1zPki"
      }
    },
    {
      "cell_type": "code",
      "source": [
        "threshold = 0.9\n",
        "empty_cols = [col for col in df.columns if df[col].isnull().sum() / len(df) > threshold]\n",
        "print(f\"{len(empty_cols)}\")\n",
        "print(f\"{empty_cols}\")\n"
      ],
      "metadata": {
        "colab": {
          "base_uri": "https://localhost:8080/"
        },
        "id": "P4ssANu4Sec5",
        "outputId": "b57fb923-6ad4-4c44-f046-a07ffb2785ad"
      },
      "execution_count": null,
      "outputs": [
        {
          "output_type": "stream",
          "name": "stdout",
          "text": [
            "2\n",
            "['H10_quantos_dentes', 'R3_relig_espiritual_sem_religiao']\n"
          ]
        }
      ]
    },
    {
      "cell_type": "markdown",
      "source": [
        "R3= Tem alguma religiosidade, espiritualidade sem religião?\n",
        "\n"
      ],
      "metadata": {
        "id": "sbNtQD6t0vr4"
      }
    },
    {
      "cell_type": "code",
      "source": [
        "df.drop(columns=['R3_relig_espiritual_sem_religiao'], inplace=True)\n",
        "df['H10_quantos_dentes'].fillna(0, inplace=True)\n"
      ],
      "metadata": {
        "id": "pxvPSY0k2Fvt"
      },
      "execution_count": null,
      "outputs": []
    },
    {
      "cell_type": "code",
      "source": [
        "threshold = 0.75\n",
        "empty_cols = [col for col in df.columns if df[col].isnull().sum() / len(df) > threshold and df[col].isnull().sum() / len(df) < 0.9]\n",
        "print(f\"{len(empty_cols)}\")\n",
        "print(f\"{empty_cols}\")"
      ],
      "metadata": {
        "colab": {
          "base_uri": "https://localhost:8080/"
        },
        "id": "w1v4M7QiYFki",
        "outputId": "201bdeb7-f7cc-4fdd-e0ec-338b91a28721"
      },
      "execution_count": null,
      "outputs": [
        {
          "output_type": "stream",
          "name": "stdout",
          "text": [
            "24\n",
            "['C48_CDR_pontos_Morris', 'F9_dias_ciclismo', 'F10_minutos_ciclismo', 'F13_dias_danca_salao', 'F14_minutos_danca_salao', 'F21_dias_ginastica_fora_casa', 'F22_minutos_ginastica_fora_casa', 'F25_dias_hidroginastica', 'F26_minutos_hidroginastica', 'F29_dias_corrida_leve_caminh_vigorosa', 'F30_minutos_corrida_leve_caminh_vigorosa', 'F33_dias_corrida_vigorosa', 'F34_minutos_corrida_vigorosa', 'F37_dias_musculacao', 'F38_minutos_musculacao', 'F41_dias_natacao_academia_campo_aberto', 'F42_minutos_natacao_academia_campo_aberto', 'F45_dias_voleibol', 'F46_minutos_voleibol', 'J45_manter_se_atualizado', 'J46_capaz_prestar_atencao_entender_programas', 'R4_import_relig_espiritual_vida', 'CPF_idosos_Brasilia', 'N_protocolo_Idosos_Brasilia']\n"
          ]
        }
      ]
    },
    {
      "cell_type": "markdown",
      "source": [
        "ToDo: if ( Threshold > 75% and Threshold < 90% and has clear impact ) = analise to fill\n"
      ],
      "metadata": {
        "id": "pdewPaoa0zsr"
      }
    },
    {
      "cell_type": "code",
      "source": [
        "df.drop(columns=['CPF_idosos_Brasilia', 'N_protocolo_Idosos_Brasilia'], inplace=True)\n"
      ],
      "metadata": {
        "collapsed": true,
        "id": "uhvtPpy3SIei"
      },
      "execution_count": null,
      "outputs": []
    },
    {
      "cell_type": "code",
      "source": [
        "df['C48_CDR_pontos_Morris'].fillna(0, inplace=True)"
      ],
      "metadata": {
        "id": "Cfg3N72ApIhj"
      },
      "execution_count": null,
      "outputs": []
    },
    {
      "cell_type": "markdown",
      "source": [],
      "metadata": {
        "id": "q4P7sRaIvCei"
      }
    },
    {
      "cell_type": "markdown",
      "source": [
        "ToDo: if ( Threshold > 50% and Threshold < 75 % and has clear impact ) = analise to fill"
      ],
      "metadata": {
        "id": "00QPNcMN2Qug"
      }
    },
    {
      "cell_type": "code",
      "source": [
        "\n",
        "\n",
        "threshold = 0.5\n",
        "empty_cols = [col for col in df.columns if df[col].isnull().sum() / len(df) > threshold and df[col].isnull().sum() / len(df) < 0.75]\n",
        "print(f\"{len(empty_cols)}\")\n",
        "print(f\"{empty_cols}\")"
      ],
      "metadata": {
        "colab": {
          "base_uri": "https://localhost:8080/"
        },
        "id": "CumNVJPcfe4G",
        "outputId": "3bd793ff-800f-4c27-9e46-950eb4fbb552"
      },
      "execution_count": null,
      "outputs": [
        {
          "output_type": "stream",
          "name": "stdout",
          "text": [
            "101\n",
            "['C41_memoria', 'C42_orientacao_temporal_espacial', 'C43_julgamento_solucao_problemas', 'C44_relacoes_comunitarias', 'C45_lar_passa_tempos', 'C46_cuidados_pessoais', 'C47_CDR_soma_pontos', 'C49_CDR_nivel_demencia_Morris', 'F2_quantos_quilos', 'F4_caminhada', 'F5_dias_caminhada', 'F6_minutos_caminhada', 'F7_caminhada_3.8_METS', 'F8_ciclismo', 'F11_ciclismo_4.0_METS', 'F12_danca_salao', 'F15_danca_salao_4.5_METS', 'F16_ginastica_casa', 'F17_dias_ginastica_casa', 'F18_minutos_ginastica_casa', 'F19_ginastica_casa_3.5_METS', 'F20_ginastica_fora_casa', 'F23_ginastica_fora_casa_6.0_METS', 'F24_hidroginastica', 'F27_hidroginastica_4.0_METS', 'F28_corrida_leve_caminh_vigorosa', 'F31_corrida_leve_6.0_METS', 'F32_corrida_vigorosa', 'F36_musculacao', 'F39_musculacao_3.0_METS', 'F40_natacao_academia_campo_aberto', 'F44_voleibol', 'F48_soma_METS', 'F50_fragilidade_atividade_fisica', 'H6_num_dentes_arcada_sup', 'H7_num_dentes_arcada_inf', 'H8_num_dentes_duas_arcadas', 'H16_boca_seca', 'J1_fazer_visitas', 'J2_receber_visitas', 'J3_igreja_templo', 'J4_reunioes_sociais', 'J5_eventos_culturais', 'J6_automovel', 'J7_viagens_1_dia', 'J8_viagens_longas', 'J9_trabalho_voluntario', 'J10_trabalho_remunerado', 'J11_diretorias_conselhos_ativ_politicas', 'J12_UNAT_CCI', 'J13_soma_nunca_fez_AAVD', 'J14_soma_deixou_fazer_AAVD', 'J15_soma_faz_AAVD', 'J16_porcentagem_nunca_fez_AAVD', 'J17_porcentagem_deixou_fazer_AAVD', 'J18_porcentagem_ainda_faz_AAVD', 'J19_telefone', 'J20_transporte', 'J21_compras', 'J22_cozinhar', 'J23_tarefas_domesticas', 'J24_uso_medicacao', 'J25_manejo_dinheiro', 'J26_num_AIVD_independencia_total', 'J27_num_AIVD_independencia_parcial', 'J28_num_AIVD_dependencia_total', 'J29_classif_AIVD_Virtuoso', 'J41_manuseia_dinheiro', 'J42_compra_roupas_comida_soz', 'J43_esquenta_agua_apaga_fogo', 'J44_prepara_comida', 'J47_lembra_compromissos_acontec_familiares', 'J48_manuseia_remedios', 'J49_passeia_vizinhanca_encontra_caminho_casa', 'J50_pode_ser_deixado_soz', 'J51_pontuacao_total_Pfeffer', 'J52_classif_Pfeffer_decl_func_Dutra', 'J53_classif_Pfeffer_decl_cog_Dutra', 'L01_social_L601_L602', 'L2_instrumental_L603', 'L3_informativo_L604', 'L4_emocional_L605', 'L5_soma_pontos_suporte_social_perceb', 'L6_classif_suporte_soc_perc_alto_baixo', 'O1_morte_ente_querido', 'O2_doenca_ente_querido', 'O3_doenca_proprio_idoso', 'O4_cuidado_familiar', 'O5_perda_poder_aquisitivo', 'O6_conflitos_familiares', 'O7_violencia_idoso', 'O8_eventos_descendencia', 'O9_perda_atividade_amizade', 'O10_num_eventos_estressantes_velh', 'R1_tem_religiao', 'R2_filiacao_religiosa', 'R5_freq_prat_religiosa_publica', 'R6_relig_espiritual_ajuda_enfrentar_dific', 'R7_religiao_espiritual_sentido_vida', 'R8_quanto_religioso_espiritual', 'R9_freq_praticas_religiosas_casa']\n"
          ]
        }
      ]
    },
    {
      "cell_type": "markdown",
      "source": [
        "Verificando quais colunas são categóricas"
      ],
      "metadata": {
        "id": "k29QcLIurOm5"
      }
    },
    {
      "cell_type": "code",
      "source": [
        "cols_with_only_1_2_null = [col for col in df.columns if df[col].isin([1, 2]).sum() + df[col].isnull().sum() == len(df)]\n",
        "print(f\"Numero de Colunas com Variaveis Categóricas: {len(cols_with_only_1_2_null)}\")\n",
        "print(f\"Colunas Categóricas: {cols_with_only_1_2_null}\")\n"
      ],
      "metadata": {
        "id": "zv5kx9BF0RYt",
        "colab": {
          "base_uri": "https://localhost:8080/"
        },
        "outputId": "d1d7c393-d2c4-4672-a80e-24a02ed7c723"
      },
      "execution_count": null,
      "outputs": [
        {
          "output_type": "stream",
          "name": "stdout",
          "text": [
            "Numero de Colunas com Variaveis Categóricas: 87\n",
            "Colunas Categóricas: ['B3_sexo', 'B9_alfabetizado', 'B12_sozinho', 'B13_conjuge', 'B14_filhos', 'B15_netos', 'B16_bisnetos', 'B17_outro_parente', 'B23_proprietario_resid', 'F1_perda_peso', 'G1_coracao', 'G2_hipertensao', 'G3_AVC_isquemia', 'G4_diabetes', 'G5_cancer', 'G6_artrite_reumatismo', 'G7_doencas_pulmoes', 'G8_depressao', 'G9_osteoporose', 'G12_incontinencia_urinaria', 'G13_perda_apetite', 'G14_dificuldades_memoria', 'G15_lesao_pele_feridas', 'G16_dificuldade_engolir', 'G17_sensacao_alimento_parado', 'G18_retorno_alimento', 'G19_disfagia', 'G20_dor_cronica', 'G21_acorda_madrugada_nao_dorme', 'G22_acordado_maior_parte_noite', 'G23_demora_pegar_sono', 'G24_dorme_mal_noite', 'G26_insonia_classificacao', 'G27_cochilo_diurno', 'G28_consome_remedios', 'G30_polifarmacia', 'G31_medicamento_hipertensao', 'G32_insulina', 'G34_vitaminas', 'G35_medicamento_depressao', 'G36_fuma_atualmente', 'H1_comida_dura', 'H2_maca', 'H3_cenoura', 'H4_pao_torrado', 'H5_bife', 'H9_perdeu_dentes', 'H11_dentatura_arcada_sup', 'H12_dentadura_arcada_inf', 'H13_dentadura_duas_arcadas', 'H14_dentadura_machuca', 'H15_alimentacao_dentadura', 'H16_boca_seca', 'J30_banho', 'J31_vestir_se', 'J32_usar_sanitario', 'J33_transferencia', 'J34_continencia', 'J35_alimentar_se', 'J52_classif_Pfeffer_decl_func_Dutra', 'J53_classif_Pfeffer_decl_cog_Dutra', 'M1_satisfeito_vida', 'M2_deixou_atividades', 'M3_vida_vazia', 'M4_aborrece', 'M5_bom_humor', 'M6_medo', 'M7_feliz', 'M8_sem_saida', 'M9_ficar_casa', 'M10_problemas_memoria', 'M11_maravilhoso_estar_vivo', 'M12_inutil', 'M13_energico', 'M14_sem_esperanca', 'M15_inferioridade', 'O1_morte_ente_querido', 'O2_doenca_ente_querido', 'O3_doenca_proprio_idoso', 'O4_cuidado_familiar', 'O5_perda_poder_aquisitivo', 'O6_conflitos_familiares', 'O7_violencia_idoso', 'O8_eventos_descendencia', 'O9_perda_atividade_amizade', 'R1_tem_religiao', 'rcq_cat']\n"
          ]
        }
      ]
    },
    {
      "cell_type": "markdown",
      "source": [
        "Trocando 2 pelo 0 nas colunas Binarias para a facilitação de aprendizado do modelo\n"
      ],
      "metadata": {
        "id": "iDBLMhh8rZMo"
      }
    },
    {
      "cell_type": "code",
      "source": [
        "for col in cols_with_only_1_2_null:\n",
        "    df[col].replace({2: 0}, inplace=True)\n"
      ],
      "metadata": {
        "id": "9fbRnqbz6QB6"
      },
      "execution_count": null,
      "outputs": []
    },
    {
      "cell_type": "code",
      "source": [
        "df['F8_ciclismo'].replace({2: 0}, inplace=True)\n",
        "df['F12_danca_salao'].replace({2: 0}, inplace=True)"
      ],
      "metadata": {
        "id": "V9eetrGXvVFZ"
      },
      "execution_count": null,
      "outputs": []
    },
    {
      "cell_type": "code",
      "source": [
        "df['F20_ginastica_fora_casa'].replace({2: 0}, inplace=True)\n",
        "df['F24_hidroginastica'].replace({2: 0}, inplace=True)\n",
        "df['F28_corrida_leve_caminh_vigorosa'].replace({2: 0}, inplace=True)\n",
        "df['F32_corrida_vigorosa'].replace({2: 0}, inplace=True)\n",
        "df['F36_musculacao'].replace({2: 0}, inplace=True)\n",
        "df['F40_natacao_academia_campo_aberto'].replace({2: 0}, inplace=True)\n",
        "df['F44_voleibol'].replace({2: 0}, inplace=True)"
      ],
      "metadata": {
        "id": "Xky3QIMM-p5C"
      },
      "execution_count": null,
      "outputs": []
    },
    {
      "cell_type": "code",
      "source": [
        "threshold = 0.75\n",
        "empty_cols = [col for col in df.columns if df[col].isnull().sum() / len(df) > threshold and df[col].isnull().sum() / len(df) < 0.9]\n",
        "print(f\"{len(empty_cols)}\")\n",
        "print(f\"{empty_cols}\")"
      ],
      "metadata": {
        "colab": {
          "base_uri": "https://localhost:8080/"
        },
        "id": "2Kp2OyeXdsgV",
        "outputId": "b03d20c1-9dfd-4546-e0ba-d3321466692f"
      },
      "execution_count": null,
      "outputs": [
        {
          "output_type": "stream",
          "name": "stdout",
          "text": [
            "21\n",
            "['F9_dias_ciclismo', 'F10_minutos_ciclismo', 'F13_dias_danca_salao', 'F14_minutos_danca_salao', 'F21_dias_ginastica_fora_casa', 'F22_minutos_ginastica_fora_casa', 'F25_dias_hidroginastica', 'F26_minutos_hidroginastica', 'F29_dias_corrida_leve_caminh_vigorosa', 'F30_minutos_corrida_leve_caminh_vigorosa', 'F33_dias_corrida_vigorosa', 'F34_minutos_corrida_vigorosa', 'F37_dias_musculacao', 'F38_minutos_musculacao', 'F41_dias_natacao_academia_campo_aberto', 'F42_minutos_natacao_academia_campo_aberto', 'F45_dias_voleibol', 'F46_minutos_voleibol', 'J45_manter_se_atualizado', 'J46_capaz_prestar_atencao_entender_programas', 'R4_import_relig_espiritual_vida']\n"
          ]
        }
      ]
    },
    {
      "cell_type": "markdown",
      "source": [
        "Tratamento dos dados : F8 = se a pessoa pratica ciclismo\n",
        "\n",
        "\n",
        "F9 = quantos dias dias da semana ela pratica ciclismo\n",
        "F10 = Quantos minutos cada praticá dura aproximadamente\n",
        "\n",
        "ou seja se ela não pratica ambas as outras variaveis vão ser obrigatoriamente 0, por isso as que não estiverem preenchidas\n",
        "\n",
        "a mesma situação  ocorrera semelhantemente para outras variaves semelhantes\n"
      ],
      "metadata": {
        "id": "wkoAJrkqtKxL"
      }
    },
    {
      "cell_type": "code",
      "source": [
        "condition = (df['F8_ciclismo'] == 0) & (df['F9_dias_ciclismo'].isnull()) & (df['F10_minutos_ciclismo'].isnull())\n",
        "df.loc[condition, ['F9_dias_ciclismo', 'F10_minutos_ciclismo']] = 0"
      ],
      "metadata": {
        "id": "SVLzYbJltBLf"
      },
      "execution_count": null,
      "outputs": []
    },
    {
      "cell_type": "code",
      "source": [
        "condition = (df['F12_danca_salao'] == 0) & (df['F13_dias_danca_salao'].isnull()) & (df['F14_minutos_danca_salao'].isnull())\n",
        "df.loc[condition, ['F13_dias_danca_salao', 'F14_minutos_danca_salao']] = 0\n"
      ],
      "metadata": {
        "id": "g0gLFrTd0Guk"
      },
      "execution_count": null,
      "outputs": []
    },
    {
      "cell_type": "code",
      "source": [
        "condition = (df['F20_ginastica_fora_casa'] == 0) & (df['F21_dias_ginastica_fora_casa'].isnull()) & (df['F22_minutos_ginastica_fora_casa'].isnull())\n",
        "df.loc[condition, ['F21_dias_ginastica_fora_casa', 'F22_minutos_ginastica_fora_casa']] = 0"
      ],
      "metadata": {
        "id": "1_bIEEbpGgZf"
      },
      "execution_count": null,
      "outputs": []
    },
    {
      "cell_type": "code",
      "source": [
        "condition = (df['F24_hidroginastica'] == 0) & (df['F25_dias_hidroginastica'].isnull()) & (df['F26_minutos_hidroginastica'].isnull())\n",
        "df.loc[condition, ['F25_dias_hidroginastica', 'F26_minutos_hidroginastica']] = 0"
      ],
      "metadata": {
        "id": "r6BO9g_p_qhL"
      },
      "execution_count": null,
      "outputs": []
    },
    {
      "cell_type": "code",
      "source": [
        "condition = (df['F28_corrida_leve_caminh_vigorosa'] == 0) & (df['F29_dias_corrida_leve_caminh_vigorosa'].isnull()) & (df['F30_minutos_corrida_leve_caminh_vigorosa'].isnull())\n",
        "df.loc[condition, ['F29_dias_corrida_leve_caminh_vigorosa', 'F30_minutos_corrida_leve_caminh_vigorosa']] = 0"
      ],
      "metadata": {
        "id": "zBwfOU0HAZKg"
      },
      "execution_count": null,
      "outputs": []
    },
    {
      "cell_type": "code",
      "source": [
        "condition = (df['F32_corrida_vigorosa'] == 0) & (df['F33_dias_corrida_vigorosa'].isnull()) & (df['F34_minutos_corrida_vigorosa'].isnull())\n",
        "df.loc[condition, ['F33_dias_corrida_vigorosa', 'F34_minutos_corrida_vigorosa']] = 0"
      ],
      "metadata": {
        "id": "bJ-XQeSruM5A"
      },
      "execution_count": null,
      "outputs": []
    },
    {
      "cell_type": "code",
      "source": [
        "condition = (df['F36_musculacao'] == 0) & (df['F37_dias_musculacao'].isnull()) & (df['F38_minutos_musculacao'].isnull())\n",
        "df.loc[condition, ['F37_dias_musculacao', 'F38_minutos_musculacao']] = 0"
      ],
      "metadata": {
        "id": "qaRalaWBvBCe"
      },
      "execution_count": null,
      "outputs": []
    },
    {
      "cell_type": "code",
      "source": [
        "condition = (df['F40_natacao_academia_campo_aberto'] == 0) & (df['F41_dias_natacao_academia_campo_aberto'].isnull()) & (df['F42_minutos_natacao_academia_campo_aberto'].isnull())\n",
        "df.loc[condition, ['F41_dias_natacao_academia_campo_aberto', 'F42_minutos_natacao_academia_campo_aberto']] = 0"
      ],
      "metadata": {
        "id": "U1U_24a-vXAD"
      },
      "execution_count": null,
      "outputs": []
    },
    {
      "cell_type": "code",
      "source": [
        "condition = (df['F44_voleibol'] == 0) & (df['F45_dias_voleibol'].isnull()) & (df['F46_minutos_voleibol'].isnull())\n",
        "df.loc[condition, ['F45_dias_voleibol', 'F46_minutos_voleibol']] = 0"
      ],
      "metadata": {
        "id": "5UR62QadwHYC"
      },
      "execution_count": null,
      "outputs": []
    },
    {
      "cell_type": "code",
      "source": [
        "threshold = 0.75\n",
        "empty_cols = [col for col in df.columns if df[col].isnull().sum() / len(df) > threshold]\n",
        "print(f\"{len(empty_cols)}\")\n",
        "print(f\"{empty_cols}\")"
      ],
      "metadata": {
        "colab": {
          "base_uri": "https://localhost:8080/"
        },
        "id": "ikMgu95c-DRn",
        "outputId": "9fd0e474-e868-4ee9-a76b-d1d4fa0b974a"
      },
      "execution_count": null,
      "outputs": [
        {
          "output_type": "stream",
          "name": "stdout",
          "text": [
            "3\n",
            "['J45_manter_se_atualizado', 'J46_capaz_prestar_atencao_entender_programas', 'R4_import_relig_espiritual_vida']\n"
          ]
        }
      ]
    },
    {
      "cell_type": "markdown",
      "source": [
        "Todo: Drop irelevant columns\n"
      ],
      "metadata": {
        "id": "VnRWcc_mNtUq"
      }
    },
    {
      "cell_type": "code",
      "source": [
        "df.drop(columns=['N_protocolo'], inplace=True)\n"
      ],
      "metadata": {
        "id": "JZbPbgEYNbni"
      },
      "execution_count": null,
      "outputs": []
    },
    {
      "cell_type": "code",
      "source": [
        "df.drop(columns=['filter_$'], inplace=True)"
      ],
      "metadata": {
        "id": "I3QsJzXXOSNd"
      },
      "execution_count": null,
      "outputs": []
    },
    {
      "cell_type": "markdown",
      "source": [
        "Focar no texto;\n",
        "desenvolver sessão objetivo na introdução\n",
        "metodologia:como"
      ],
      "metadata": {
        "id": "GAuDCpevDpI2"
      }
    },
    {
      "cell_type": "code",
      "source": [
        "threshold = 0.5\n",
        "empty_cols = [col for col in df.columns if df[col].isnull().sum() / len(df) > threshold]\n",
        "print(f\"{len(empty_cols)}\")\n",
        "print(f\"{empty_cols}\")"
      ],
      "metadata": {
        "colab": {
          "base_uri": "https://localhost:8080/"
        },
        "id": "2xPOPDjqDaco",
        "outputId": "967933da-7f64-4fc9-9a2b-a4a0bb0b723b"
      },
      "execution_count": null,
      "outputs": [
        {
          "output_type": "stream",
          "name": "stdout",
          "text": [
            "122\n",
            "['C41_memoria', 'C42_orientacao_temporal_espacial', 'C43_julgamento_solucao_problemas', 'C44_relacoes_comunitarias', 'C45_lar_passa_tempos', 'C46_cuidados_pessoais', 'C47_CDR_soma_pontos', 'C49_CDR_nivel_demencia_Morris', 'F2_quantos_quilos', 'F4_caminhada', 'F5_dias_caminhada', 'F6_minutos_caminhada', 'F7_caminhada_3.8_METS', 'F8_ciclismo', 'F9_dias_ciclismo', 'F10_minutos_ciclismo', 'F11_ciclismo_4.0_METS', 'F12_danca_salao', 'F13_dias_danca_salao', 'F14_minutos_danca_salao', 'F15_danca_salao_4.5_METS', 'F16_ginastica_casa', 'F17_dias_ginastica_casa', 'F18_minutos_ginastica_casa', 'F19_ginastica_casa_3.5_METS', 'F20_ginastica_fora_casa', 'F21_dias_ginastica_fora_casa', 'F22_minutos_ginastica_fora_casa', 'F23_ginastica_fora_casa_6.0_METS', 'F24_hidroginastica', 'F25_dias_hidroginastica', 'F26_minutos_hidroginastica', 'F27_hidroginastica_4.0_METS', 'F28_corrida_leve_caminh_vigorosa', 'F29_dias_corrida_leve_caminh_vigorosa', 'F30_minutos_corrida_leve_caminh_vigorosa', 'F31_corrida_leve_6.0_METS', 'F32_corrida_vigorosa', 'F33_dias_corrida_vigorosa', 'F34_minutos_corrida_vigorosa', 'F36_musculacao', 'F37_dias_musculacao', 'F38_minutos_musculacao', 'F39_musculacao_3.0_METS', 'F40_natacao_academia_campo_aberto', 'F41_dias_natacao_academia_campo_aberto', 'F42_minutos_natacao_academia_campo_aberto', 'F44_voleibol', 'F45_dias_voleibol', 'F46_minutos_voleibol', 'F48_soma_METS', 'F50_fragilidade_atividade_fisica', 'H6_num_dentes_arcada_sup', 'H7_num_dentes_arcada_inf', 'H8_num_dentes_duas_arcadas', 'H16_boca_seca', 'J1_fazer_visitas', 'J2_receber_visitas', 'J3_igreja_templo', 'J4_reunioes_sociais', 'J5_eventos_culturais', 'J6_automovel', 'J7_viagens_1_dia', 'J8_viagens_longas', 'J9_trabalho_voluntario', 'J10_trabalho_remunerado', 'J11_diretorias_conselhos_ativ_politicas', 'J12_UNAT_CCI', 'J13_soma_nunca_fez_AAVD', 'J14_soma_deixou_fazer_AAVD', 'J15_soma_faz_AAVD', 'J16_porcentagem_nunca_fez_AAVD', 'J17_porcentagem_deixou_fazer_AAVD', 'J18_porcentagem_ainda_faz_AAVD', 'J19_telefone', 'J20_transporte', 'J21_compras', 'J22_cozinhar', 'J23_tarefas_domesticas', 'J24_uso_medicacao', 'J25_manejo_dinheiro', 'J26_num_AIVD_independencia_total', 'J27_num_AIVD_independencia_parcial', 'J28_num_AIVD_dependencia_total', 'J29_classif_AIVD_Virtuoso', 'J41_manuseia_dinheiro', 'J42_compra_roupas_comida_soz', 'J43_esquenta_agua_apaga_fogo', 'J44_prepara_comida', 'J45_manter_se_atualizado', 'J46_capaz_prestar_atencao_entender_programas', 'J47_lembra_compromissos_acontec_familiares', 'J48_manuseia_remedios', 'J49_passeia_vizinhanca_encontra_caminho_casa', 'J50_pode_ser_deixado_soz', 'J51_pontuacao_total_Pfeffer', 'J52_classif_Pfeffer_decl_func_Dutra', 'J53_classif_Pfeffer_decl_cog_Dutra', 'L01_social_L601_L602', 'L2_instrumental_L603', 'L3_informativo_L604', 'L4_emocional_L605', 'L5_soma_pontos_suporte_social_perceb', 'L6_classif_suporte_soc_perc_alto_baixo', 'O1_morte_ente_querido', 'O2_doenca_ente_querido', 'O3_doenca_proprio_idoso', 'O4_cuidado_familiar', 'O5_perda_poder_aquisitivo', 'O6_conflitos_familiares', 'O7_violencia_idoso', 'O8_eventos_descendencia', 'O9_perda_atividade_amizade', 'O10_num_eventos_estressantes_velh', 'R1_tem_religiao', 'R2_filiacao_religiosa', 'R4_import_relig_espiritual_vida', 'R5_freq_prat_religiosa_publica', 'R6_relig_espiritual_ajuda_enfrentar_dific', 'R7_religiao_espiritual_sentido_vida', 'R8_quanto_religioso_espiritual', 'R9_freq_praticas_religiosas_casa']\n"
          ]
        }
      ]
    },
    {
      "cell_type": "code",
      "source": [
        "\n",
        "for col in ['F8_ciclismo', 'F9_dias_ciclismo', 'F10_minutos_ciclismo', 'F11_ciclismo_4.0_METS', 'F12_danca_salao', 'F13_dias_danca_salao', 'F14_minutos_danca_salao', 'F15_danca_salao_4.5_METS', 'F16_ginastica_casa', 'F17_dias_ginastica_casa', 'F18_minutos_ginastica_casa', 'F19_ginastica_casa_3.5_METS', 'F20_ginastica_fora_casa', 'F21_dias_ginastica_fora_casa', 'F22_minutos_ginastica_fora_casa', 'F23_ginastica_fora_casa_6.0_METS']:\n",
        "  df[col].fillna(0, inplace=False)\n"
      ],
      "metadata": {
        "id": "dqNM4ueAdsHL"
      },
      "execution_count": null,
      "outputs": []
    }
  ]
}